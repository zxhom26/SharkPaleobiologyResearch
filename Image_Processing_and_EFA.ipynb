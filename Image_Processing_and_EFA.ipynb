{
  "nbformat": 4,
  "nbformat_minor": 0,
  "metadata": {
    "colab": {
      "provenance": [],
      "authorship_tag": "ABX9TyMtvjOEqMN/i048YJQWmkqz",
      "include_colab_link": true
    },
    "kernelspec": {
      "name": "python3",
      "display_name": "Python 3"
    },
    "language_info": {
      "name": "python"
    }
  },
  "cells": [
    {
      "cell_type": "markdown",
      "metadata": {
        "id": "view-in-github",
        "colab_type": "text"
      },
      "source": [
        "<a href=\"https://colab.research.google.com/github/zxhom26/SharkPaleobiologyResearch/blob/main/Image_Processing_and_EFA.ipynb\" target=\"_parent\"><img src=\"https://colab.research.google.com/assets/colab-badge.svg\" alt=\"Open In Colab\"/></a>"
      ]
    },
    {
      "cell_type": "code",
      "execution_count": null,
      "metadata": {
        "id": "gjRHa_S4X3EH"
      },
      "outputs": [],
      "source": [
        "from google.colab import userdata\n",
        "userdata.get('shark_paleo_token')"
      ]
    },
    {
      "cell_type": "markdown",
      "source": [
        "test update"
      ],
      "metadata": {
        "id": "TobJzjM9ZByz"
      }
    }
  ]
}